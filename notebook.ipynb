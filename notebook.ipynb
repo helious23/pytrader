{
 "cells": [
  {
   "cell_type": "code",
   "execution_count": null,
   "metadata": {},
   "outputs": [],
   "source": [
    "def bmi_calculator(weight, height):\n",
    "    height = height * 0.01\n",
    "    bmi = weight / (height * height)\n",
    "    if bmi < 18.5:\n",
    "        print(\"마른체형\")\n",
    "    elif 18.5 <= bmi < 25.0:\n",
    "        print(\"표준\")\n",
    "    elif 25.0 <= bmi < 30.0:\n",
    "        print(\"비만\")\n",
    "    else:\n",
    "        print(\"고도비만\")\n",
    "\n",
    "\n",
    "while 1:\n",
    "    height = input(\"Height (cm): \")\n",
    "    weight = input(\"Weight (kg): \")\n",
    "    bmi_calculator(float(weight), float(height))"
   ]
  },
  {
   "cell_type": "code",
   "execution_count": 3,
   "metadata": {},
   "outputs": [
    {
     "data": {
      "text/plain": [
       "200.0"
      ]
     },
     "execution_count": 3,
     "metadata": {},
     "output_type": "execute_result"
    }
   ],
   "source": [
    "def get_triangle_area(width, height):\n",
    "    return width * height / 2\n",
    "\n",
    "\n",
    "get_triangle_area(10, 40)"
   ]
  },
  {
   "cell_type": "code",
   "execution_count": 26,
   "metadata": {},
   "outputs": [
    {
     "data": {
      "text/plain": [
       "55"
      ]
     },
     "execution_count": 26,
     "metadata": {},
     "output_type": "execute_result"
    }
   ],
   "source": [
    "def add_start_to_end(start, end):\n",
    "    return sum(range(start, end + 1))\n",
    "\n",
    "\n",
    "add_start_to_end(1, 10)"
   ]
  },
  {
   "cell_type": "code",
   "execution_count": 45,
   "metadata": {},
   "outputs": [],
   "source": [
    "def get_abbr(cities):\n",
    "    return list(city[:3] for city in cities)"
   ]
  },
  {
   "cell_type": "code",
   "execution_count": 46,
   "metadata": {},
   "outputs": [
    {
     "data": {
      "text/plain": [
       "['aaa', 'ddd', 'eee', 'Asd']"
      ]
     },
     "execution_count": 46,
     "metadata": {},
     "output_type": "execute_result"
    }
   ],
   "source": [
    "get_abbr([\"aaaaa\", \"ddddd\", \"eeeeeee\", \"Asdfasdfas\"])"
   ]
  },
  {
   "cell_type": "code",
   "execution_count": 59,
   "metadata": {},
   "outputs": [],
   "source": [
    "class BussinessCard:\n",
    "    def set_info(self, name, email, addr):\n",
    "        self.name = name\n",
    "        self.email = email\n",
    "        self.addr = addr"
   ]
  },
  {
   "cell_type": "code",
   "execution_count": 60,
   "metadata": {},
   "outputs": [
    {
     "data": {
      "text/plain": [
       "<__main__.BussinessCard at 0x1059292e0>"
      ]
     },
     "execution_count": 60,
     "metadata": {},
     "output_type": "execute_result"
    }
   ],
   "source": [
    "member1 = BussinessCard()\n",
    "member1"
   ]
  },
  {
   "cell_type": "code",
   "execution_count": 61,
   "metadata": {},
   "outputs": [],
   "source": [
    "member1.set_info(\"Yuna Kim\", \"yunakim@naver.com\", \"Seoul\")"
   ]
  }
 ],
 "metadata": {
  "kernelspec": {
   "display_name": "env",
   "language": "python",
   "name": "python3"
  },
  "language_info": {
   "codemirror_mode": {
    "name": "ipython",
    "version": 3
   },
   "file_extension": ".py",
   "mimetype": "text/x-python",
   "name": "python",
   "nbconvert_exporter": "python",
   "pygments_lexer": "ipython3",
   "version": "3.12.2"
  }
 },
 "nbformat": 4,
 "nbformat_minor": 2
}
